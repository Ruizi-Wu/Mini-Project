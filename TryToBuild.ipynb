{
 "cells": [
  {
   "cell_type": "code",
   "execution_count": 1,
   "metadata": {},
   "outputs": [],
   "source": [
    "import jax\n",
    "import optax\n",
    "\n",
    "import jax.numpy as jnp\n",
    "import jax.random as jrd\n",
    "import numpy as np\n",
    "\n",
    "from jax.random import PRNGKey\n",
    "from flax import linen as nn\n",
    "\n",
    "import sys\n",
    "sys.path.insert(1, '..')\n",
    "from kronojax.neural.KAN import KAN, MLP\n",
    "from kronojax.neural.embedding import time_embedding"
   ]
  },
  {
   "cell_type": "code",
   "execution_count": 2,
   "metadata": {},
   "outputs": [],
   "source": [
    "# Set random Key\n",
    "key = jrd.PRNGKey(0)"
   ]
  },
  {
   "cell_type": "markdown",
   "metadata": {},
   "source": [
    "#### parametrize flow and drift functions with neural networks"
   ]
  },
  {
   "cell_type": "code",
   "execution_count": 3,
   "metadata": {},
   "outputs": [],
   "source": [
    "class NN_drift(nn.Module):\n",
    "    \"\"\"parametrize drift function\"\"\"\n",
    "\n",
    "    time_embedding_dim: int\n",
    "    time_freq_min: float\n",
    "    time_freq_max: float\n",
    "    dim_list: list\n",
    "\n",
    "    @nn.compact\n",
    "    def __call__(self, x, t):\n",
    "\n",
    "        t_embedded = time_embedding(t, self.time_freq_min, self.time_freq_max, self.time_embedding_dim)\n",
    "        input_forward = jnp.concatenate([x, t_embedded], axis=1)\n",
    "        NN_forward = KAN(dim_list=self.dim_list, degree=2)\n",
    "\n",
    "        return NN_forward(input_forward)\n",
    "\n",
    "class NN_flow(nn.Module):\n",
    "    \"\"\"parametrize flow function\"\"\"\n",
    "\n",
    "    time_embedding_dim: int\n",
    "    time_freq_min: float\n",
    "    time_freq_max: float\n",
    "    dim_list: list\n",
    "\n",
    "    @nn.compact\n",
    "    def __call__(self, x, t):\n",
    "\n",
    "        t_embedded = time_embedding(t, self.time_freq_min, self.time_freq_max, self.time_embedding_dim)\n",
    "        input_flow = jnp.concatenate([x, t_embedded], axis=1)\n",
    "        NN_flow = MLP(dim_list=self.dim_list)\n",
    "\n",
    "        return jnp.exp(NN_flow(input_flow))\n",
    "    \n",
    "class NN_FlowAndDirft(nn.Module):\n",
    "    \"\"\"concatenate two neural networks for drift and flow\"\"\"\n",
    "\n",
    "    time_embedding_dim: int\n",
    "    time_freq_min: float\n",
    "    time_freq_max: float\n",
    "    dim_list_drift: list\n",
    "    dim_list_flow: list\n",
    "\n",
    "    @nn.compact\n",
    "    def __call__(self, x, t):\n",
    "\n",
    "        drift = NN_drift(time_embedding_dim=self.time_embedding_dim, \n",
    "                         time_freq_min=self.time_freq_min, time_freq_max=self.time_freq_max, dim_list=self.dim_list_drift)\n",
    "        \n",
    "        flow = NN_flow(time_embedding_dim=self.time_embedding_dim, \n",
    "                       time_freq_min=self.time_freq_min, time_freq_max=self.time_freq_max, dim_list=self.dim_list_flow)\n",
    "\n",
    "        return drift(x, t), flow(x, t)"
   ]
  },
  {
   "cell_type": "code",
   "execution_count": 4,
   "metadata": {},
   "outputs": [],
   "source": [
    "key, subkey = jrd.split(key)\n",
    "time_embedding_dim = 16\n",
    "time_freq_min = 1.\n",
    "time_freq_max = 10\n",
    "output_dim = 1\n",
    "dim_list_drift = [32, 32, output_dim]\n",
    "dim_list_flow = [32, 32, output_dim]\n",
    "# GFnet = NN_FlowAndDirft(time_embedding_dim, time_freq_min, time_freq_max, dim_list_drift, dim_list_flow)\n",
    "net_drift = NN_drift(time_embedding_dim, time_freq_min, time_freq_max, dim_list_drift)\n",
    "net_flow = NN_flow(time_embedding_dim, time_freq_min, time_freq_max, dim_list_flow)\n",
    "\n",
    "# initialize the network\n",
    "batch_sz = 32\n",
    "key, subkey = jrd.split(key)\n",
    "xs = jrd.normal(subkey, (batch_sz, 1))\n",
    "ts = jrd.uniform(subkey, (batch_sz, 1))\n",
    "params_drift = net_drift.init(subkey, xs, ts)\n",
    "params_flow = net_flow.init(subkey, xs, ts)"
   ]
  },
  {
   "cell_type": "code",
   "execution_count": 5,
   "metadata": {},
   "outputs": [],
   "source": [
    "# print(params)"
   ]
  },
  {
   "cell_type": "code",
   "execution_count": 6,
   "metadata": {},
   "outputs": [
    {
     "name": "stdout",
     "output_type": "stream",
     "text": [
      "(17, 32, 3)\n",
      "(32,)\n",
      "(32,)\n",
      "(32, 32, 3)\n",
      "(32,)\n",
      "(32,)\n",
      "(32, 1, 3)\n",
      "(17, 32)\n",
      "(32,)\n",
      "(32, 32)\n",
      "(32,)\n",
      "(32, 1)\n",
      "(1,)\n"
     ]
    }
   ],
   "source": [
    "print(params['params']['NN_drift_0']['KAN_0']['ChebyKANLayer_0']['cheby_coeffs'].shape)\n",
    "print(params['params']['NN_drift_0']['KAN_0']['LayerNorm_0']['scale'].shape)\n",
    "print(params['params']['NN_drift_0']['KAN_0']['LayerNorm_0']['bias'].shape)\n",
    "\n",
    "print(params['params']['NN_drift_0']['KAN_0']['ChebyKANLayer_1']['cheby_coeffs'].shape)\n",
    "print(params['params']['NN_drift_0']['KAN_0']['LayerNorm_1']['scale'].shape)\n",
    "print(params['params']['NN_drift_0']['KAN_0']['LayerNorm_1']['bias'].shape)\n",
    "\n",
    "print(params['params']['NN_drift_0']['KAN_0']['ChebyKANLayer_2']['cheby_coeffs'].shape)\n",
    "\n",
    "print(params['params']['NN_flow_0']['MLP_0']['Dense_0']['kernel'].shape)\n",
    "print(params['params']['NN_flow_0']['MLP_0']['Dense_0']['bias'].shape)\n",
    "\n",
    "print(params['params']['NN_flow_0']['MLP_0']['Dense_1']['kernel'].shape)\n",
    "print(params['params']['NN_flow_0']['MLP_0']['Dense_1']['bias'].shape)\n",
    "\n",
    "print(params['params']['NN_flow_0']['MLP_0']['Dense_2']['kernel'].shape)\n",
    "print(params['params']['NN_flow_0']['MLP_0']['Dense_2']['bias'].shape)"
   ]
  },
  {
   "cell_type": "markdown",
   "metadata": {},
   "source": [
    "#### define loss function"
   ]
  },
  {
   "cell_type": "code",
   "execution_count": 5,
   "metadata": {},
   "outputs": [],
   "source": [
    "def normal_density(x, mu, sigma2):\n",
    "    \"\"\"\n",
    "    x: n-dim array\n",
    "    mu: n-dim array\n",
    "    sigma2: scalar\n",
    "    \"\"\"\n",
    "    return jnp.exp(-0.5 * (x - mu)**2 / sigma2) / jnp.sqrt(2 * jnp.pi * sigma2)"
   ]
  },
  {
   "cell_type": "code",
   "execution_count": 21,
   "metadata": {},
   "outputs": [],
   "source": [
    "def loss(\n",
    "        params_drift: any,\n",
    "        params_flow: any,\n",
    "        batch_sz: int,\n",
    "        N_step: int,\n",
    "        key: PRNGKey\n",
    "        ):\n",
    "    \"\"\"define the loss function -- trajectory balance\"\"\"\n",
    "\n",
    "    T = 1.\n",
    "    dt = T / N_step\n",
    "    sqt = jnp.sqrt(dt)\n",
    "\n",
    "    def _step(carry, _):\n",
    "        xo, t = carry\n",
    "        to = jnp.ones_like(xo) * t\n",
    "        u = net_drift.apply(params_drift, xo, to)\n",
    "        f = net_flow.apply(params_flow, xo, to)\n",
    "        dw = sqt * jrd.normal(subkey, xo.shape)\n",
    "        xn = xo + u*dt + dw\n",
    "        t += dt\n",
    "        PF = normal_density(xn, xo + u*dt, dt) # Forward probability\n",
    "        PB = normal_density(xo, xn, dt) # Backward probability\n",
    "        output_dict = {\n",
    "            \"t\": t,\n",
    "            \"x\": xo,\n",
    "            \"P_forward\": PF,\n",
    "            \"P_backward\": PB,\n",
    "            \"state flow\": f\n",
    "            }\n",
    "        return (xn, t), output_dict\n",
    "    key, subkey = jrd.split(key)\n",
    "    t_init = 0.\n",
    "    x_init = jnp.zeros((batch_sz, 1))\n",
    "    carry_init = (x_init, t_init)\n",
    "    _, trajectory = jax.lax.scan(_step, carry_init, xs = None, length=N_step)\n",
    "    xT = trajectory[\"x\"][-1]\n",
    "    tT = jnp.ones_like(xT)\n",
    "    FN = net_flow.apply(params_flow, xT, tT)\n",
    "    return trajectory, FN"
   ]
  },
  {
   "cell_type": "code",
   "execution_count": 24,
   "metadata": {},
   "outputs": [
    {
     "data": {
      "text/plain": [
       "(32, 1)"
      ]
     },
     "execution_count": 24,
     "metadata": {},
     "output_type": "execute_result"
    }
   ],
   "source": [
    "trajectory, FN = loss(params_drift, params_flow, 32, 10, key)"
   ]
  },
  {
   "cell_type": "code",
   "execution_count": null,
   "metadata": {},
   "outputs": [],
   "source": []
  }
 ],
 "metadata": {
  "kernelspec": {
   "display_name": ".venv",
   "language": "python",
   "name": "python3"
  },
  "language_info": {
   "codemirror_mode": {
    "name": "ipython",
    "version": 3
   },
   "file_extension": ".py",
   "mimetype": "text/x-python",
   "name": "python",
   "nbconvert_exporter": "python",
   "pygments_lexer": "ipython3",
   "version": "3.12.5"
  }
 },
 "nbformat": 4,
 "nbformat_minor": 2
}
