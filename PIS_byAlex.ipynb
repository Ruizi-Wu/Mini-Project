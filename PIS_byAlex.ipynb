{
 "cells": [
  {
   "cell_type": "code",
   "execution_count": 29,
   "metadata": {},
   "outputs": [
    {
     "name": "stdout",
     "output_type": "stream",
     "text": [
      "The autoreload extension is already loaded. To reload it, use:\n",
      "  %reload_ext autoreload\n"
     ]
    }
   ],
   "source": [
    "from jax import config\n",
    "config.update(\"jax_enable_x64\", True)\n",
    "%load_ext autoreload\n",
    "%autoreload 2\n",
    "import time\n",
    "import numpy as np\n",
    "import pylab as plt\n",
    "import jax\n",
    "import jax.random as jr\n",
    "from jax.random import PRNGKey\n",
    "import jax.numpy as jnp\n",
    "\n",
    "# FLAX library\n",
    "from flax import linen as nn\n",
    "\n",
    "# OPTAX for ADAM optimizer\n",
    "import optax\n",
    "\n",
    "import sys\n",
    "sys.path.insert(1, '..')\n",
    "from kronojax.neural.KAN import KAN, MLP\n",
    "from kronojax.neural.embedding import time_embedding\n",
    "# set the matplotlib theme\n",
    "# import kronojax.plotting.matplotlib_theme"
   ]
  },
  {
   "cell_type": "code",
   "execution_count": 30,
   "metadata": {},
   "outputs": [],
   "source": [
    "# initialize the random number generator\n",
    "key = jr.PRNGKey(0)"
   ]
  },
  {
   "cell_type": "markdown",
   "metadata": {},
   "source": [
    "#### Definition of a target distribution to sample from"
   ]
  },
  {
   "cell_type": "code",
   "execution_count": 31,
   "metadata": {},
   "outputs": [],
   "source": [
    "def log_target(x):\n",
    "    \"\"\" Mixture of two Gaussians \"\"\"\n",
    "    mu1 = -1.\n",
    "    mu2 = 1.\n",
    "    sigma = 0.3\n",
    "    proba_1 = jnp.exp(-0.5*(x-mu1)**2 / sigma**2)\n",
    "    proba_2 = jnp.exp(-0.5*(x-mu2)**2 / sigma**2)\n",
    "    return jnp.log(0.5 * proba_1 + 0.5 * proba_2)\n",
    "\n",
    "log_target_batch = jax.vmap(log_target)\n",
    "grad_log_target = jax.grad(log_target)\n",
    "grad_log_target_batch = jax.vmap(grad_log_target)"
   ]
  },
  {
   "cell_type": "markdown",
   "metadata": {},
   "source": [
    "#### parametrize a drift with a neural net"
   ]
  },
  {
   "cell_type": "code",
   "execution_count": 32,
   "metadata": {},
   "outputs": [],
   "source": [
    "class NN_drift(nn.Module):\n",
    "    \"\"\"\n",
    "    A neural network that parametrizes the drift drift(x, t)\n",
    "      drift: R^D x R -> R^D\n",
    "    \"\"\"\n",
    "    time_embedding_dim: int     # dimension of the time embedding\n",
    "    time_freq_min: float        # minimum frequency of the time embedding     \n",
    "    time_freq_max: float        # maximum frequency of the time embedding\n",
    "    dim_list: list              # list of dimensions of the hidden layers\n",
    "    \n",
    "    @nn.compact\n",
    "    def __call__(self, x, t):\n",
    "        # can use a basic MLP or a KAN architecture\n",
    "        REGRESSOR = \"KAN\"\n",
    "        assert REGRESSOR in [\"KAN\", \"MLP\"]\n",
    "        \n",
    "        # compute time embedding $ concat x and t\n",
    "        t_embedded = time_embedding(t, self.time_freq_min, self.time_freq_max, self.time_embedding_dim)\n",
    "        input_ = jnp.concatenate([x, t_embedded], axis=1)\n",
    "\n",
    "        # create the regressor\n",
    "        if REGRESSOR == \"KAN\":\n",
    "            regressor = KAN(dim_list=self.dim_list, degree=4)\n",
    "        elif REGRESSOR == \"MLP\":\n",
    "            regressor = MLP(dim_list=self.dim_list)\n",
    "        else:\n",
    "            # raise an error as type of regressor is not recognized\n",
    "            raise ValueError(\"Regressor type not recognized\")\n",
    "        \n",
    "        return regressor(input_)"
   ]
  },
  {
   "cell_type": "code",
   "execution_count": 33,
   "metadata": {},
   "outputs": [],
   "source": [
    "# create the neural net that parametrizes the drift(x, t)\n",
    "key, key_ = jr.split(key)\n",
    "time_embedding_dim = 16\n",
    "time_freq_min = 1.\n",
    "time_freq_max = 10\n",
    "output_dim = 1\n",
    "dim_list = [20, 20, output_dim]\n",
    "net = NN_drift(time_embedding_dim, time_freq_min, time_freq_max, dim_list)\n",
    "\n",
    "# create a dummy input to initialize the network\n",
    "batch_sz = 32\n",
    "key, key_ = jr.split(key)\n",
    "xs = jr.normal(key_, (batch_sz, 1))\n",
    "ts = jr.uniform(key_, (batch_sz, 1))\n",
    "params = net.init(key_, xs, ts)"
   ]
  },
  {
   "cell_type": "code",
   "execution_count": null,
   "metadata": {},
   "outputs": [],
   "source": [
    "# print(params)"
   ]
  },
  {
   "cell_type": "code",
   "execution_count": 20,
   "metadata": {},
   "outputs": [
    {
     "name": "stdout",
     "output_type": "stream",
     "text": [
      "(17, 20, 5)\n",
      "(20,)\n",
      "(20,)\n",
      "(20, 20, 5)\n",
      "(20,)\n",
      "(20,)\n",
      "(20, 1, 5)\n"
     ]
    }
   ],
   "source": [
    "print(params['params']['KAN_0']['ChebyKANLayer_0']['cheby_coeffs'].shape)\n",
    "print(params['params']['KAN_0']['LayerNorm_0']['scale'].shape)\n",
    "print(params['params']['KAN_0']['LayerNorm_0']['bias'].shape)\n",
    "\n",
    "print(params['params']['KAN_0']['ChebyKANLayer_1']['cheby_coeffs'].shape)\n",
    "print(params['params']['KAN_0']['LayerNorm_1']['scale'].shape)\n",
    "print(params['params']['KAN_0']['LayerNorm_1']['bias'].shape)\n",
    "\n",
    "print(params['params']['KAN_0']['ChebyKANLayer_2']['cheby_coeffs'].shape)\n"
   ]
  },
  {
   "cell_type": "code",
   "execution_count": null,
   "metadata": {},
   "outputs": [],
   "source": [
    "print(params['params']['MLP_0']['Dense_0']['kernel'].shape)\n",
    "print(params['params']['MLP_0']['Dense_0']['bias'].shape)\n",
    "print(params['params']['MLP_0']['Dense_1']['kernel'].shape)\n",
    "print(params['params']['MLP_0']['Dense_1']['bias'].shape)\n",
    "print(params['params']['MLP_0']['Dense_2']['kernel'].shape)\n",
    "print(params['params']['MLP_0']['Dense_2']['bias'].shape)"
   ]
  },
  {
   "cell_type": "code",
   "execution_count": 21,
   "metadata": {},
   "outputs": [
    {
     "name": "stdout",
     "output_type": "stream",
     "text": [
      "Number of parameters: 3,880\n"
     ]
    }
   ],
   "source": [
    "# compute the total number of parameters with jax.tree_util.tree_leaves\n",
    "n_params = sum([p.size for p in jax.tree_util.tree_leaves(params)])\n",
    "print(f\"Number of parameters: {n_params:,}\")"
   ]
  },
  {
   "cell_type": "code",
   "execution_count": 22,
   "metadata": {},
   "outputs": [
    {
     "name": "stdout",
     "output_type": "stream",
     "text": [
      "(100, 100)\n",
      "[[0.73970055 0.74418692 0.74693418 ... 1.08087321 1.06026453 1.03880454]\n",
      " [0.69525792 0.69613835 0.69623418 ... 1.29080925 1.27598175 1.25952652]\n",
      " [0.74705215 0.74833697 0.74953723 ... 1.35589217 1.34927607 1.3412364 ]\n",
      " ...\n",
      " [0.17079003 0.1499925  0.12954011 ... 1.16979382 1.15969613 1.14916373]\n",
      " [0.29564206 0.28121377 0.26636172 ... 1.15578352 1.14397634 1.13133732]\n",
      " [0.33389925 0.32424247 0.31358927 ... 1.07659455 1.06377729 1.05006519]]\n"
     ]
    }
   ],
   "source": [
    "# do a 3D plot of the drift for time in [0,1]\n",
    "Nt , Nx = 100, 100\n",
    "t_arr = jnp.linspace(0, 1, Nt)\n",
    "x_arr = jnp.linspace(-1, 1, Nx)\n",
    "X, T = jnp.meshgrid(x_arr, t_arr)\n",
    "print(X.shape)\n",
    "X = X.reshape(-1,1)\n",
    "T = T.reshape(-1,1)\n",
    "Y = net.apply(params, X, T)\n",
    "Y = Y.reshape(Nt, Nx)\n",
    "print(Y)"
   ]
  },
  {
   "cell_type": "code",
   "execution_count": 23,
   "metadata": {},
   "outputs": [
    {
     "data": {
      "text/plain": [
       "<matplotlib.colorbar.Colorbar at 0x1c4c99f7530>"
      ]
     },
     "execution_count": 23,
     "metadata": {},
     "output_type": "execute_result"
    },
    {
     "data": {
      "image/png": "[encoded data removed]",
      "text/plain": [
       "<Figure size 640x480 with 2 Axes>"
      ]
     },
     "metadata": {},
     "output_type": "display_data"
    }
   ],
   "source": [
    "plt.figure()\n",
    "# set the max/min color to -2 and 2\n",
    "plt.imshow(Y, extent=[-1, 1, 0, 1], origin='lower', \n",
    "           aspect='auto', cmap='bwr', vmin=-3, vmax=3)\n",
    "plt.grid(True, lw=0.5, color='black')\n",
    "plt.xlabel(r'Space $x$')\n",
    "plt.ylabel(r'Time $t$')\n",
    "plt.title(r'Drift $b(x,t)$ before training')\n",
    "# colorbar\n",
    "plt.colorbar()"
   ]
  },
  {
   "cell_type": "markdown",
   "metadata": {},
   "source": [
    "#### PIS loss function"
   ]
  },
  {
   "cell_type": "code",
   "execution_count": 24,
   "metadata": {},
   "outputs": [
    {
     "name": "stderr",
     "output_type": "stream",
     "text": [
      "<>:7: SyntaxWarning: invalid escape sequence '\\i'\n",
      "<>:7: SyntaxWarning: invalid escape sequence '\\i'\n",
      "C:\\Users\\wurui\\AppData\\Local\\Temp\\ipykernel_19740\\3630389026.py:7: SyntaxWarning: invalid escape sequence '\\i'\n",
      "  \"\"\"\n"
     ]
    }
   ],
   "source": [
    "def integrate(\n",
    "        params: any,    # parameters of the drift neural network\n",
    "        N_steps: int,   # number of discretization steps\n",
    "        batch_sz: int,  # batch size\n",
    "        key: PRNGKey,   # random key\n",
    "        ):\n",
    "    \"\"\"\n",
    "    Integrate the SDE:\n",
    "      dX = u(X,t) dt + dW\n",
    "    starting from X0 = 0 using the Euler-Maruyama scheme.\n",
    "    While integrating, compute the integrated cost:\n",
    "        -(1/2) * \\int_0^T u(X,t)^2 dt\n",
    "        \n",
    "    returns:\n",
    "    =======\n",
    "    dict: {\n",
    "        \"t\": jnp.array,                 # time array\n",
    "        \"x\": jnp.array,                 # position array\n",
    "        \"integrated_cost\": jnp.array,   # integrated cost\n",
    "    \"\"\"\n",
    "    T_final = 1.\n",
    "    dt = T_final / N_steps\n",
    "    sqt = jnp.sqrt(dt)\n",
    "\n",
    "    def _step(carry, _):\n",
    "        xs, t, integrated_cost, stoch_integ, key = carry\n",
    "        key, key_ = jr.split(key)\n",
    "        # Brownian increment\n",
    "        dw = sqt * jr.normal(key_, xs.shape)\n",
    "        # create a batch of times\n",
    "        ts = jnp.ones_like(xs) * t\n",
    "        # compute the drift\n",
    "        us = net.apply(params, xs,ts)\n",
    "        # update the integrated cost\n",
    "        #integrated_cost = integrated_cost - 0.5 * jnp.mean(us**2) * dt\n",
    "        integrated_cost = integrated_cost - 0.5 * jnp.sum(us**2, axis=-1) * dt\n",
    "        # stochastic part\n",
    "        stoch_integ = stoch_integ - jnp.sum(us * dw, axis=-1)\n",
    "        xs = xs + us * dt + dw\n",
    "        t = t + dt\n",
    "        output_dict = {\n",
    "            \"t\": t,\n",
    "            \"x\": xs,\n",
    "            \"stoch_integ\": stoch_integ,\n",
    "            \"integrated_cost\": integrated_cost,\n",
    "            }\n",
    "        return (xs, t, integrated_cost,  stoch_integ, key), output_dict\n",
    "    key, key_ = jr.split(key)\n",
    "    t_init = 0.\n",
    "    xs_init = jnp.zeros((batch_sz, 1))\n",
    "    integrated_cost = jnp.zeros(batch_sz)\n",
    "    stoch_integ = jnp.zeros(batch_sz)\n",
    "    carry_init = (xs_init, t_init, integrated_cost, stoch_integ, key_)\n",
    "    _, sde_traj = jax.lax.scan(_step, carry_init, xs = None, length=N_steps)\n",
    "    return sde_traj\n",
    "\n",
    "# compile the function\n",
    "# integrate = jax.jit(integrate, static_argnums=(1,2,))"
   ]
  },
  {
   "cell_type": "code",
   "execution_count": 25,
   "metadata": {},
   "outputs": [],
   "source": [
    "def lof_gauss_ref(x):\n",
    "    \"\"\" Log of the reference Gaussian:\n",
    "    it is the marginal of the uncontrolled process\n",
    "    \"\"\"\n",
    "    mu = 0.\n",
    "    sigma = 1.\n",
    "    return -0.5*(x-mu)**2 / sigma**2\n",
    "\n",
    "def final_reward(x):\n",
    "    \"\"\" final PIS reward = log[ targte(x) / pi_ref(x) ]\n",
    "    \"\"\"\n",
    "    return log_target(x) - lof_gauss_ref(x)\n",
    "\n",
    "final_reward_batch = jax.vmap(final_reward)\n",
    "\n",
    "def loss(\n",
    "        params: any,    # parameters of the neural network\n",
    "        N_steps: int,   # number of discretization steps\n",
    "        batch_sz: int,  # batch size\n",
    "        key: PRNGKey,   # random key\n",
    "        ):\n",
    "    # integral controlled diffusion\n",
    "    sde_traj = integrate(params, N_steps, batch_sz, key)\n",
    "    # extract final position and integrated cost\n",
    "    xs_terminal = sde_traj[\"x\"][-1]\n",
    "    sde_traj[\"integrated_cost\"][-1]\n",
    "    # compute the PIS cost: (integrated cost) + (final reward)\n",
    "    final_cost = sde_traj[\"integrated_cost\"][-1] + \\\n",
    "        final_reward_batch(xs_terminal)\n",
    "        # sde_traj[\"stoch_integ\"][-1] + \\\n",
    "    log_p_over_q = -jnp.mean(final_cost)\n",
    "    return log_p_over_q\n",
    "\n",
    "loss = jax.jit(loss, static_argnums=(1,2,))\n",
    "loss_value_grad = jax.value_and_grad(loss)"
   ]
  },
  {
   "cell_type": "code",
   "execution_count": 26,
   "metadata": {},
   "outputs": [
    {
     "name": "stdout",
     "output_type": "stream",
     "text": [
      "Initial loss: 2.47\n"
     ]
    }
   ],
   "source": [
    "N_steps = 100\n",
    "batch_sz = 100\n",
    "key, key_ = jr.split(key)\n",
    "L = loss(params, N_steps, batch_sz, key_)\n",
    "print(f\"Initial loss: {L:.2f}\")"
   ]
  },
  {
   "cell_type": "markdown",
   "metadata": {},
   "source": [
    "#### Optimization of the PIS loss"
   ]
  },
  {
   "cell_type": "code",
   "execution_count": 27,
   "metadata": {},
   "outputs": [],
   "source": [
    "# create ADAM optimizer\n",
    "LR = 1e-3\n",
    "optimizer = optax.adam(learning_rate=LR)\n",
    "\n",
    "# initialize with the parameters\n",
    "opt_state = optimizer.init(params)\n",
    "\n",
    "# create the jitted update function\n",
    "def update(params, opt_state, N_steps, batch_sz, key):\n",
    "    loss_value, grads = loss_value_grad(params, N_steps, batch_sz, key)\n",
    "    updates, opt_state = optimizer.update(grads, opt_state)\n",
    "    new_params = optax.apply_updates(params, updates)\n",
    "    return new_params, opt_state, loss_value\n",
    "\n",
    "update = jax.jit(update, static_argnums=(2,3,))"
   ]
  },
  {
   "cell_type": "code",
   "execution_count": 28,
   "metadata": {},
   "outputs": [
    {
     "name": "stdout",
     "output_type": "stream",
     "text": [
      "Iteration    0/1000  |  Loss: 2.22  |  Time: 3.11 s\n",
      "Iteration  100/1000  |  Loss: 1.22  |  Time: 91.39 s\n",
      "Iteration  200/1000  |  Loss: 1.41  |  Time: 174.11 s\n",
      "Iteration  300/1000  |  Loss: 1.22  |  Time: 256.57 s\n",
      "Iteration  400/1000  |  Loss: 1.52  |  Time: 341.73 s\n",
      "Iteration  500/1000  |  Loss: 1.33  |  Time: 428.80 s\n",
      "Iteration  600/1000  |  Loss: 1.40  |  Time: 517.72 s\n",
      "Iteration  700/1000  |  Loss: 1.36  |  Time: 610.59 s\n",
      "Iteration  800/1000  |  Loss: 1.32  |  Time: 713.73 s\n",
      "Iteration  900/1000  |  Loss: 1.38  |  Time: 805.75 s\n"
     ]
    }
   ],
   "source": [
    "N_ITER = 1_000\n",
    "BATCH_SZ = 512\n",
    "\n",
    "# track the loss over each epoch\n",
    "losses = []\n",
    "params_history = []\n",
    "\n",
    "LR = 10**-2\n",
    "optimizer = optax.adam(learning_rate=LR)\n",
    "\n",
    "time_start = time.time()\n",
    "for it in range(N_ITER):\n",
    "    key, key_ = jr.split(key)\n",
    "    params, opt_state, loss_value = update(params, opt_state, N_steps, BATCH_SZ, key_)\n",
    "    losses.append(loss_value)\n",
    "    # append a deep copy of the jax pytree params for later plotting\n",
    "    params_history.append(jax.tree.map(lambda x: x.copy(), params))\n",
    "    # print epoch and average loss\n",
    "    if it % (N_ITER//10) == 0:\n",
    "        time_current = time.time()\n",
    "        print(f\"Iteration {it:4d}/{N_ITER}  |  Loss: {loss_value:.2f}  |  Time: {time_current - time_start:.2f} s\")"
   ]
  },
  {
   "cell_type": "code",
   "execution_count": null,
   "metadata": {},
   "outputs": [],
   "source": []
  }
 ],
 "metadata": {
  "kernelspec": {
   "display_name": ".venv",
   "language": "python",
   "name": "python3"
  },
  "language_info": {
   "codemirror_mode": {
    "name": "ipython",
    "version": 3
   },
   "file_extension": ".py",
   "mimetype": "text/x-python",
   "name": "python",
   "nbconvert_exporter": "python",
   "pygments_lexer": "ipython3",
   "version": "3.12.5"
  }
 },
 "nbformat": 4,
 "nbformat_minor": 2
}
