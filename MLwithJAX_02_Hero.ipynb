{
 "cells": [
  {
   "cell_type": "code",
   "execution_count": 1,
   "metadata": {},
   "outputs": [],
   "source": [
    "import jax\n",
    "import jax.numpy as jnp\n",
    "import numpy as np\n",
    "\n",
    "from jax import grad, jit, vmap, pmap\n",
    "\n",
    "from jax import tree\n",
    "from jax import random\n",
    "from jax import make_jaxpr\n",
    "import matplotlib.pyplot as plt\n",
    "from copy import deepcopy\n",
    "from typing import Tuple, NamedTuple\n",
    "import functools"
   ]
  },
  {
   "cell_type": "markdown",
   "metadata": {},
   "source": [
    "### The Problem of State"
   ]
  },
  {
   "cell_type": "code",
   "execution_count": 2,
   "metadata": {},
   "outputs": [
    {
     "name": "stdout",
     "output_type": "stream",
     "text": [
      "1\n",
      "2\n",
      "3\n"
     ]
    }
   ],
   "source": [
    "# NumPy version\n",
    "\n",
    "class Counter:\n",
    "    \"\"\"A simple counter.\"\"\"\n",
    "\n",
    "    def __init__(self):\n",
    "        self.n = 0\n",
    "\n",
    "    def count(self) -> int:\n",
    "        self.n += 1\n",
    "        return self.n\n",
    "    \n",
    "    def reset(self):\n",
    "        self.n = 0\n",
    "\n",
    "counter = Counter()\n",
    "\n",
    "for _ in range(3):\n",
    "    print(counter.count())"
   ]
  },
  {
   "cell_type": "code",
   "execution_count": 3,
   "metadata": {},
   "outputs": [
    {
     "name": "stdout",
     "output_type": "stream",
     "text": [
      "1\n",
      "1\n",
      "1\n"
     ]
    }
   ],
   "source": [
    "counter.reset()\n",
    "fast_count = jit(counter.count)\n",
    "\n",
    "for _ in range(3):\n",
    "    print(fast_count())"
   ]
  },
  {
   "cell_type": "code",
   "execution_count": 4,
   "metadata": {},
   "outputs": [
    {
     "name": "stdout",
     "output_type": "stream",
     "text": [
      "{ \u001b[34m\u001b[22m\u001b[1mlambda \u001b[39m\u001b[22m\u001b[22m; . \u001b[34m\u001b[22m\u001b[1mlet\u001b[39m\u001b[22m\u001b[22m  \u001b[34m\u001b[22m\u001b[1min \u001b[39m\u001b[22m\u001b[22m(1,) }\n"
     ]
    }
   ],
   "source": [
    "counter.reset()\n",
    "print(make_jaxpr(counter.count)())"
   ]
  },
  {
   "cell_type": "code",
   "execution_count": 5,
   "metadata": {},
   "outputs": [
    {
     "name": "stdout",
     "output_type": "stream",
     "text": [
      "1\n",
      "2\n",
      "3\n"
     ]
    }
   ],
   "source": [
    "# Solution\n",
    "\n",
    "CounterState = int # our counter state is implemented as a simple integer\n",
    "\n",
    "class CounterV2:\n",
    "    \"\"\"modified Jax suitale counter\"\"\"\n",
    "\n",
    "    def count(self, n: CounterState) -> Tuple[int, CounterState]:\n",
    "        # actually, the first output argument can be any function we want\n",
    "        # the first argument is for function on self, and the second argument is a Counter\n",
    "        return n+1, n+1\n",
    "    \n",
    "    def reset(self) -> CounterState:\n",
    "        return 0\n",
    "    \n",
    "counter = CounterV2()\n",
    "state = counter.reset()\n",
    "\n",
    "for _ in range(3):\n",
    "    value, state = counter.count(state)\n",
    "    print(value)"
   ]
  },
  {
   "cell_type": "code",
   "execution_count": 6,
   "metadata": {},
   "outputs": [
    {
     "name": "stdout",
     "output_type": "stream",
     "text": [
      "1\n",
      "2\n",
      "3\n"
     ]
    }
   ],
   "source": [
    "state = counter.reset()\n",
    "fast_count = jit(counter.count)\n",
    "\n",
    "for _ in range(3):\n",
    "    value, state = fast_count(state)\n",
    "    print(value)"
   ]
  },
  {
   "cell_type": "markdown",
   "metadata": {},
   "source": [
    "In summary, we use the following rule to convert a stateful class into stateless:"
   ]
  },
  {
   "cell_type": "markdown",
   "metadata": {},
   "source": [
    "```python\n",
    "class StatefullClass:\n",
    "\n",
    "    state: State\n",
    "    \n",
    "    def stateful_method(*args, **kwargs) -> Output:\n",
    "\n",
    "class StatelessClass:\n",
    "\n",
    "    def stateless_method(state: State, *args, **kwargs) -> (Output, State):\n",
    "```"
   ]
  },
  {
   "cell_type": "markdown",
   "metadata": {},
   "source": [
    "### Enter PyTree"
   ]
  },
  {
   "cell_type": "markdown",
   "metadata": {},
   "source": [
    "#### PyTree basics"
   ]
  },
  {
   "cell_type": "code",
   "execution_count": 7,
   "metadata": {},
   "outputs": [
    {
     "name": "stdout",
     "output_type": "stream",
     "text": [
      "[1, 'a', <class 'object'>]                    has 3 leaves:[1, 'a', <class 'object'>]\n",
      "(1, (1, 3), ())                               has 3 leaves:[1, 1, 3]\n",
      "[1, {'k1': 2, 'k2': (3, 4)}, 5]               has 5 leaves:[1, 2, 3, 4, 5]\n",
      "{'a': 2, 'b': (2, 3)}                         has 3 leaves:[2, 2, 3]\n",
      "Array([1, 2, 3], dtype=int32)                 has 1 leaves:[Array([1, 2, 3], dtype=int32)]\n"
     ]
    }
   ],
   "source": [
    "pytree_example = [\n",
    "    [1, 'a', object],\n",
    "    (1, (1, 3), ()),\n",
    "    [1, {'k1':2, 'k2':(3, 4)}, 5],\n",
    "    {'a':2, 'b':(2, 3)},\n",
    "    jnp.array([1, 2, 3]),\n",
    "]\n",
    "\n",
    "for pytree in pytree_example:\n",
    "    leaves = tree.leaves(pytree)\n",
    "    print(f\"{repr(pytree):45} has {len(leaves)} leaves:{leaves}\")"
   ]
  },
  {
   "cell_type": "code",
   "execution_count": 8,
   "metadata": {},
   "outputs": [
    {
     "name": "stdout",
     "output_type": "stream",
     "text": [
      "[{'a': 6}, [2, 4, 6], (2, 4), [2, 4, 6, 8]]\n"
     ]
    }
   ],
   "source": [
    "# How do we manipulate PyTrees？\n",
    "\n",
    "list_of_lists = [\n",
    "    {'a':3},\n",
    "    [1, 2, 3],\n",
    "    (1, 2),\n",
    "    [1, 2, 3, 4]\n",
    "]\n",
    "\n",
    "print(tree.map(lambda x: x*2, list_of_lists))"
   ]
  },
  {
   "cell_type": "code",
   "execution_count": 9,
   "metadata": {},
   "outputs": [
    {
     "name": "stdout",
     "output_type": "stream",
     "text": [
      "[{'a': 6}, [2, 4, 6], (2, 4), [2, 4, 6, 8]]\n"
     ]
    }
   ],
   "source": [
    "# Two PyTree should have the same structure\n",
    "\n",
    "another_list_of_lists = list_of_lists\n",
    "print(tree.map(lambda x, y: x + y, list_of_lists, another_list_of_lists))"
   ]
  },
  {
   "cell_type": "markdown",
   "metadata": {},
   "source": [
    "#### Less contrived example: training a toy MLP (multi-layer perceptron) model"
   ]
  },
  {
   "cell_type": "code",
   "execution_count": 10,
   "metadata": {},
   "outputs": [
    {
     "name": "stdout",
     "output_type": "stream",
     "text": [
      "layer_widths[:-1]:  [1, 128, 128]\n",
      "layer_widths[1:]:  [128, 128, 1]\n"
     ]
    },
    {
     "data": {
      "text/plain": [
       "[{'biases': (128,), 'weights': (1, 128)},\n",
       " {'biases': (128,), 'weights': (128, 128)},\n",
       " {'biases': (1,), 'weights': (128, 1)}]"
      ]
     },
     "execution_count": 10,
     "metadata": {},
     "output_type": "execute_result"
    }
   ],
   "source": [
    "def init_mlp_params(layer_widths):\n",
    "\n",
    "    params = []\n",
    "\n",
    "    for n_in, n_out in zip(layer_widths[:-1], layer_widths[1:]):\n",
    "        params.append(\n",
    "            dict(weights=np.random.normal(size=(n_in, n_out)) * np.sqrt(2 / n_in),\n",
    "                 biases = np.ones(shape=(n_out,)))\n",
    "        )\n",
    "    \n",
    "    return params\n",
    "\n",
    "params = init_mlp_params([1, 128, 128, 1])\n",
    "print(\"layer_widths[:-1]: \", [1, 128, 128, 1][:-1])\n",
    "print(\"layer_widths[1:]: \", [1, 128, 128, 1][1:])\n",
    "\n",
    "jax.tree.map(lambda x: x.shape, params)"
   ]
  },
  {
   "cell_type": "code",
   "execution_count": 11,
   "metadata": {},
   "outputs": [],
   "source": [
    "def forward(params, x):\n",
    "    *hidden, last = params\n",
    "\n",
    "    for layer in hidden:\n",
    "        x = jax.nn.relu(jnp.dot(x, layer['weights']) + layer['biases'])\n",
    "    \n",
    "    return jnp.dot(x, last['weights']) + last['biases']\n",
    "\n",
    "def loss_fn(params, x, y):\n",
    "    return jnp.mean((forward(params, x) - y) ** 2) # MSE loss\n",
    "\n",
    "lr = 0.0001\n",
    "\n",
    "@jit\n",
    "def update(params, x, y):\n",
    "\n",
    "    # Note that grads is a pytree with the same structure as params\n",
    "    # grad is one of the many JAX functions that has built-in support for pytrees!\n",
    "    grads = grad(loss_fn)(params, x, y)\n",
    "    \n",
    "    # SGD update\n",
    "    return tree.map(lambda p, g: p - lr * g, params, grads)"
   ]
  },
  {
   "cell_type": "code",
   "execution_count": 12,
   "metadata": {},
   "outputs": [
    {
     "data": {
      "image/png": "[encoded data removed]",
      "text/plain": [
       "<Figure size 640x480 with 1 Axes>"
      ]
     },
     "metadata": {},
     "output_type": "display_data"
    }
   ],
   "source": [
    "xs = np.random.normal(size=(128,1))\n",
    "ys = xs**2\n",
    "# ys = xs**3 + xs\n",
    "# ys = np.sin(xs)\n",
    "\n",
    "num_epochs = 5000\n",
    "for _ in range(num_epochs):\n",
    "    params = update(params, xs, ys)\n",
    "\n",
    "plt.scatter(xs, ys)\n",
    "plt.scatter(xs,  forward(params, xs), label='Model Prediction')\n",
    "plt.legend(); plt.show()"
   ]
  },
  {
   "cell_type": "markdown",
   "metadata": {},
   "source": [
    "#### Custom PyTrees"
   ]
  },
  {
   "cell_type": "code",
   "execution_count": 13,
   "metadata": {},
   "outputs": [],
   "source": [
    "class MyContainer:\n",
    "    def __init__(self, name: str, a: int, b: int, c:int):\n",
    "        self.name = name\n",
    "        self.a = a\n",
    "        self.b = b\n",
    "        self.c = c        "
   ]
  },
  {
   "cell_type": "code",
   "execution_count": 14,
   "metadata": {},
   "outputs": [
    {
     "name": "stdout",
     "output_type": "stream",
     "text": [
      "[<__main__.MyContainer object at 0x000001DB3457DBB0>, <__main__.MyContainer object at 0x000001DB34566300>]\n",
      " has 2 leaves:\n",
      "[<__main__.MyContainer object at 0x000001DB3457DBB0>, <__main__.MyContainer object at 0x000001DB34566300>])\n"
     ]
    }
   ],
   "source": [
    "example_pytree = [MyContainer('Alice', 1, 2, 3), MyContainer('Bob', 4, 5, 6)] # 8 leaves\n",
    "\n",
    "leaves = tree.leaves(example_pytree)\n",
    "print(f'{repr(example_pytree):<45}\\n has {len(leaves)} leaves:\\n{leaves})') # however, only 2 leaves"
   ]
  },
  {
   "cell_type": "code",
   "execution_count": 15,
   "metadata": {},
   "outputs": [],
   "source": [
    "# Lets get this work!!!\n",
    "\n",
    "def flatten_MyContainer(container):\n",
    "    \"\"\"returns on iterable over container contents, and aux date\"\"\"\n",
    "    flat_contents = [container.a, container.b, container.c]\n",
    "    \n",
    "    # we dont want the name to appear as a child, so it is auxilarry data.\n",
    "    # auxularry dara is usually a discription of the structureof a node, but not the data itself\n",
    "    aux_data = container.name\n",
    "    \n",
    "    return flat_contents, aux_data\n",
    "\n",
    "def unflattem_MyContainer(aux_data, flat_contents):\n",
    "    \"\"\"converts aux data and flat contents into a MyContainer\"\"\"\n",
    "    return MyContainer(aux_data, *flat_contents)\n",
    "\n",
    "jax.tree_util.register_pytree_node(MyContainer, flatten_MyContainer, unflattem_MyContainer)"
   ]
  },
  {
   "cell_type": "code",
   "execution_count": 16,
   "metadata": {},
   "outputs": [
    {
     "name": "stdout",
     "output_type": "stream",
     "text": [
      "[<__main__.MyContainer object at 0x000001DB3457DBB0>, <__main__.MyContainer object at 0x000001DB34566300>]\n",
      " has 6 leaves:\n",
      "[1, 2, 3, 4, 5, 6]\n"
     ]
    }
   ],
   "source": [
    "leaves = jax.tree.leaves(example_pytree)\n",
    "print(f\"{repr(example_pytree):<45}\\n has {len(leaves)} leaves:\\n{leaves}\")"
   ]
  },
  {
   "cell_type": "code",
   "execution_count": 17,
   "metadata": {},
   "outputs": [
    {
     "name": "stdout",
     "output_type": "stream",
     "text": [
      "[2, 3, 4, 5, 6, 7]\n"
     ]
    }
   ],
   "source": [
    "result = jax.tree.map(lambda x: x + 1, example_pytree)\n",
    "print(jax.tree.leaves(result))"
   ]
  },
  {
   "cell_type": "code",
   "execution_count": 18,
   "metadata": {},
   "outputs": [
    {
     "name": "stdout",
     "output_type": "stream",
     "text": [
      "[Array([[0., 0., 0.],\n",
      "       [0., 0., 0.]], dtype=float32), Array([[0., 0., 0., 0.],\n",
      "       [0., 0., 0., 0.],\n",
      "       [0., 0., 0., 0.]], dtype=float32)]\n",
      "[(2, 3), (3, 4)]\n",
      "Undesired outcome \n",
      " [(Array([1., 1.], dtype=float32), Array([1., 1., 1.], dtype=float32)), (Array([1., 1., 1.], dtype=float32), Array([1., 1., 1., 1.], dtype=float32))]\n",
      "Desiredd outcome \n",
      " [Array([[1., 1., 1.],\n",
      "       [1., 1., 1.]], dtype=float32), Array([[1., 1., 1., 1.],\n",
      "       [1., 1., 1., 1.],\n",
      "       [1., 1., 1., 1.]], dtype=float32)]\n"
     ]
    }
   ],
   "source": [
    "# Finally, a common gotcha working with PyTrees: mistaking nodes for leaves/children\n",
    "\n",
    "zeros_tree = [jnp.zeros((2, 3)), jnp.zeros((3, 4))]\n",
    "print(zeros_tree)\n",
    "\n",
    "# Try to make anothr three with ones instead of zeros\n",
    "shapes = jax.tree.map(lambda x: x.shape, zeros_tree)\n",
    "print(shapes)\n",
    "\n",
    "ones_tree = jax.tree.map(jnp.ones, shapes)\n",
    "print(\"Undesired outcome \\n\", ones_tree) # However, (2, 3) is also a PyTree! so jnp.one will apply on 2, 3 saperately!!\n",
    "\n",
    "# Solution\n",
    "shapes = jax.tree.map(lambda x: jnp.array(x.shape), zeros_tree) # now, jnp.array((2, 3)) is a leave!\n",
    "\n",
    "ones_tree = jax.tree.map(jnp.ones, shapes)\n",
    "print(\"Desiredd outcome \\n\", ones_tree)"
   ]
  },
  {
   "cell_type": "markdown",
   "metadata": {},
   "source": [
    "### Parallelism in JAX\n",
    "parallelism in JAX is handled by another fundamental transform function: pmap"
   ]
  },
  {
   "cell_type": "markdown",
   "metadata": {},
   "source": [
    "#### pmap basics\n",
    "This should be done on TPU"
   ]
  },
  {
   "cell_type": "code",
   "execution_count": 21,
   "metadata": {},
   "outputs": [
    {
     "data": {
      "text/plain": [
       "[CpuDevice(id=0)]"
      ]
     },
     "execution_count": 21,
     "metadata": {},
     "output_type": "execute_result"
    }
   ],
   "source": [
    "jax.devices()\n"
   ]
  },
  {
   "cell_type": "markdown",
   "metadata": {},
   "source": [
    "#### Useful functions\n",
    "value_and_grad and has_aux"
   ]
  },
  {
   "cell_type": "code",
   "execution_count": 19,
   "metadata": {},
   "outputs": [
    {
     "name": "stdout",
     "output_type": "stream",
     "text": [
      "[0. 1. 2. 3.]\n"
     ]
    },
    {
     "data": {
      "text/plain": [
       "(Array(0.03999997, dtype=float32),\n",
       " Array([-0.2       , -0.20000005, -0.19999981, -0.19999981], dtype=float32))"
      ]
     },
     "execution_count": 19,
     "metadata": {},
     "output_type": "execute_result"
    }
   ],
   "source": [
    "def sum_squared_error(x, y):\n",
    "    return sum((x - y)**2)\n",
    "\n",
    "x = jnp.arange(4, dtype=jnp.float32)\n",
    "y = x + 0.1\n",
    "print(x)\n",
    "\n",
    "# An efficient way to return both grads and loss value\n",
    "jax.value_and_grad(sum_squared_error)(x, y)"
   ]
  },
  {
   "cell_type": "code",
   "execution_count": 20,
   "metadata": {},
   "outputs": [
    {
     "name": "stdout",
     "output_type": "stream",
     "text": [
      "loss:  [-0.2        -0.20000005 -0.19999981 -0.19999981]\n",
      "aux:  [-0.1        -0.10000002 -0.0999999  -0.0999999 ]\n"
     ]
    },
    {
     "data": {
      "text/plain": [
       "(Array([-0.2       , -0.20000005, -0.19999981, -0.19999981], dtype=float32),\n",
       " Array([-0.1       , -0.10000002, -0.0999999 , -0.0999999 ], dtype=float32))"
      ]
     },
     "execution_count": 20,
     "metadata": {},
     "output_type": "execute_result"
    }
   ],
   "source": [
    "# And sometimes the loss function needs to return intermediate results\n",
    "\n",
    "def sum_squared_error_with_aux(x, y):\n",
    "    return sum((x - y)**2), x - y\n",
    "\n",
    "loss, aux = jax.grad(sum_squared_error_with_aux, has_aux=True)(x, y)\n",
    "print(\"loss: \", loss)\n",
    "print(\"aux: \", aux)\n",
    "jax.grad(sum_squared_error_with_aux, has_aux=True)(x, y) # with has_aux=False, grad will onlywork for scalar-output functions"
   ]
  },
  {
   "cell_type": "markdown",
   "metadata": {},
   "source": [
    "#### Training a very simple model in parallel\n",
    "Codes on Colab"
   ]
  },
  {
   "cell_type": "code",
   "execution_count": null,
   "metadata": {},
   "outputs": [],
   "source": []
  }
 ],
 "metadata": {
  "kernelspec": {
   "display_name": ".venv",
   "language": "python",
   "name": "python3"
  },
  "language_info": {
   "codemirror_mode": {
    "name": "ipython",
    "version": 3
   },
   "file_extension": ".py",
   "mimetype": "text/x-python",
   "name": "python",
   "nbconvert_exporter": "python",
   "pygments_lexer": "ipython3",
   "version": "3.12.5"
  }
 },
 "nbformat": 4,
 "nbformat_minor": 2
}
